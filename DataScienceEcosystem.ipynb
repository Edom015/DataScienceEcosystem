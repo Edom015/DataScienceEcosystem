{
 "cells": [
  {
   "cell_type": "markdown",
   "id": "3d88914f-c1f6-4601-a02b-b07d8aa01c21",
   "metadata": {},
   "source": [
    "# Data science Tools and Ecosystem\n"
   ]
  },
  {
   "cell_type": "markdown",
   "id": "9ee83ac8-249e-4449-8bdf-a5eb29d8668a",
   "metadata": {},
   "source": [
    "In this notebook, Data Science Tools and Ecosystem are summerized. "
   ]
  },
  {
   "cell_type": "markdown",
   "id": "5e46e87a-1f3c-4641-97eb-cda6c93e51f3",
   "metadata": {},
   "source": [
    "Some of the popular languages that Data Scientists use are:\n",
    "\n",
    "1. Python\n",
    "2. SQL\n",
    "3. R\n",
    "4. Java\n",
    "5. C++"
   ]
  },
  {
   "cell_type": "markdown",
   "id": "8edcef23-7e9a-41c9-9efd-7dbea7a998d5",
   "metadata": {},
   "source": [
    "Some of the commonly used libraries used by Data Scientists include:\n",
    "\n",
    "1. NumPy\n",
    "2. Matplitlib\n",
    "3. Pandas\n",
    "4. SciPy\n",
    "5. TensorFlow"
   ]
  },
  {
   "cell_type": "markdown",
   "id": "a3a3e3e0-4ee3-4410-bfc5-d413c5778c2f",
   "metadata": {},
   "source": [
    "\n",
    "\n",
    "| Data Science Tools |\n",
    "| ------ |\n",
    "| Python |\n",
    "| R      |\n",
    "| Pandas |"
   ]
  },
  {
   "cell_type": "markdown",
   "id": "62843754-cc41-483a-9375-34d4d174539c",
   "metadata": {},
   "source": [
    "### Below are a few examples of evaluating arithmetic expressions in Python"
   ]
  },
  {
   "cell_type": "code",
   "execution_count": 8,
   "id": "6ed025e7-4416-4132-92da-5de137f05d10",
   "metadata": {},
   "outputs": [
    {
     "name": "stdout",
     "output_type": "stream",
     "text": [
      "17\n"
     ]
    }
   ],
   "source": [
    "# This a simple arithmetic expression to mutiply then add integers\n",
    "\n",
    "result = 3*4 + 5\n",
    "print(result)"
   ]
  },
  {
   "cell_type": "code",
   "execution_count": 10,
   "id": "0cfd9038-bc3d-46e7-a3d7-d8bc3e670e5f",
   "metadata": {},
   "outputs": [
    {
     "name": "stdout",
     "output_type": "stream",
     "text": [
      "3.3333333333333335\n"
     ]
    }
   ],
   "source": [
    "# This will convert 200 minutes to hours by diving by 60\n",
    "\n",
    "result = 200/60\n",
    "print(result)"
   ]
  },
  {
   "cell_type": "markdown",
   "id": "f6da6f1d-e222-4726-b906-033ef4536227",
   "metadata": {},
   "source": [
    "# Objectives \n",
    "\n",
    "* List commonly used libraries used by Data Scientists\n",
    "* List a few examples of evaluating arithmetic expressions in Python\n",
    "* List popular languages for Data Science"
   ]
  },
  {
   "cell_type": "markdown",
   "id": "a09291b0-03e7-4a6e-81f0-317d011e1f1b",
   "metadata": {},
   "source": [
    "## Author\n",
    "\n",
    "Edom Mathebula"
   ]
  }
 ],
 "metadata": {
  "kernelspec": {
   "display_name": "Python 3 (ipykernel)",
   "language": "python",
   "name": "python3"
  },
  "language_info": {
   "codemirror_mode": {
    "name": "ipython",
    "version": 3
   },
   "file_extension": ".py",
   "mimetype": "text/x-python",
   "name": "python",
   "nbconvert_exporter": "python",
   "pygments_lexer": "ipython3",
   "version": "3.12.8"
  }
 },
 "nbformat": 4,
 "nbformat_minor": 5
}
